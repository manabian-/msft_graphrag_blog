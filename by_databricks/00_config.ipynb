{
 "cells": [
  {
   "cell_type": "code",
   "execution_count": 0,
   "metadata": {
    "application/vnd.databricks.v1+cell": {
     "cellMetadata": {},
     "inputWidgets": {},
     "nuid": "21afacdf-3647-46dc-962c-fb1d5264126f",
     "showTitle": false,
     "tableResultSettingsMap": {},
     "title": ""
    }
   },
   "outputs": [],
   "source": [
    "# Set information for Databricks\n",
    "CATALOG = \"graphrag_with_rdf\"            # UC catalog name (example)\n",
    "SCHEMA  = \"schema_01\"                    # UC schema name (example)\n",
    "INDEX_NAME   = \"entity_graph_index\"      # Vector index name (alphanumeric and _ only)\n",
    "ENDPOINT_NAME = \"vector_search_01\"       # Vector Search endpoint name"
   ]
  },
  {
   "cell_type": "code",
   "execution_count": 0,
   "metadata": {
    "application/vnd.databricks.v1+cell": {
     "cellMetadata": {},
     "inputWidgets": {},
     "nuid": "81e7f542-22b2-4ee1-9abe-04507c110099",
     "showTitle": false,
     "tableResultSettingsMap": {},
     "title": ""
    }
   },
   "outputs": [],
   "source": [
    "# Set information for GraphDB\n",
    "host = \"https://k1e8xxxxx.sandbox.graphwise.ai\"\n",
    "repository = \"msft-graphrag\"\n",
    "username = \"xxx@xxx.com\"\n",
    "password = \"2&][xxxx\""
   ]
  }
 ],
 "metadata": {
  "application/vnd.databricks.v1+notebook": {
   "computePreferences": null,
   "dashboards": [],
   "environmentMetadata": {
    "base_environment": "",
    "environment_version": "4"
   },
   "inputWidgetPreferences": null,
   "language": "python",
   "notebookMetadata": {
    "pythonIndentUnit": 4
   },
   "notebookName": "00_config",
   "widgets": {}
  },
  "language_info": {
   "name": "python"
  }
 },
 "nbformat": 4,
 "nbformat_minor": 0
}
